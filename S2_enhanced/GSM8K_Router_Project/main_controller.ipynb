{
 "cells": [
  {
   "cell_type": "code",
   "execution_count": null,
   "id": "initial_id",
   "metadata": {
    "collapsed": true
   },
   "outputs": [],
   "source": [
    "# =========================================================\n",
    "# Cell 1: Setup Environment, Mount Drive, and Clone Repo\n",
    "# =========================================================\n",
    "from google.colab import drive\n",
    "import os\n",
    "from huggingface_hub import login\n",
    "from google.colab import userdata\n",
    "\n",
    "print(\"🚀 Staring setup...\")\n",
    "\n",
    "# 1. 挂载Google Drive用于持久化存储\n",
    "drive.mount('/content/drive')\n",
    "\n",
    "# 2. 定义Google Drive中的项目路径，用于存放模型和数据\n",
    "# 所有重要文件都会保存在这里，不会因Colab会话结束而丢失\n",
    "PROJECT_PATH_GDRIVE = \"/content/drive/MyDrive/GSM8K_Router_Project\"\n",
    "os.makedirs(PROJECT_PATH_GDRIVE, exist_ok=True)\n",
    "print(f\"✅ Google Drive path set to: {PROJECT_PATH_GDRIVE}\")\n",
    "\n",
    "# 3. 克隆你的GitHub仓库\n",
    "GITHUB_REPO_URL = \"https://github.com/YourUsername/Your_Project_Folder.git\" # <--- 务必修改为你的仓库地址\n",
    "PROJECT_NAME = \"Your_Project_Folder\" # <--- 你的仓库文件夹名\n",
    "\n",
    "if os.path.exists(PROJECT_NAME):\n",
    "    !rm -rf {PROJECT_NAME} # 如果已存在，先删除旧的，确保代码最新\n",
    "\n",
    "print(f\"🔄 Cloning repository from GitHub...\")\n",
    "!git clone {GITHUB_REPO_URL}\n",
    "os.chdir(PROJECT_NAME) # 进入项目目录\n",
    "print(f\"✅ Successfully cloned and current directory is: {os.getcwd()}\")\n",
    "\n",
    "\n",
    "# 4. 安装依赖库\n",
    "print(\"\\n📦 Installing required libraries...\")\n",
    "!pip install transformers datasets accelerate bitsandbytes sentencepiece pandas scipy -q\n",
    "print(\"✅ Libraries installed.\")\n",
    "\n",
    "# 5. Hugging Face认证\n",
    "print(\"\\n🔑 Authenticating with Hugging Face...\")\n",
    "try:\n",
    "    hf_token = userdata.get('HF_TOKEN') # 从Colab Secrets获取Token\n",
    "    login(token=hf_token)\n",
    "    print(\"✅ HuggingFace login successful.\")\n",
    "except Exception as e:\n",
    "    print(f\"⚠️ Could not login to HuggingFace. Please set up HF_TOKEN in Colab Secrets. Error: {e}\")\n",
    "\n",
    "print(\"\\n🎉 Setup complete! You are ready to run the training or evaluation.\")"
   ]
  },
  {
   "cell_type": "code",
   "outputs": [],
   "source": [
    "# =========================================================\n",
    "# Cell 2: Run the Training Script\n",
    "# =========================================================\n",
    "import os\n",
    "\n",
    "# 将Google Drive的项目路径作为环境变量传递给Python脚本\n",
    "# 这样脚本内部就能知道要把模型和数据保存在哪里\n",
    "os.environ['PROJECT_PATH_GDRIVE'] = PROJECT_PATH_GDRIVE\n",
    "\n",
    "print(\"🔥\" * 20)\n",
    "print(\"Starting the training process... (This may take several hours)\")\n",
    "print(f\"Output files (model and data) will be saved to: {PROJECT_PATH_GDRIVE}\")\n",
    "print(\"🔥\" * 20)\n",
    "\n",
    "# 使用 '!' 直接在Colab中执行你的Python训练脚本\n",
    "!python train_router.py\n",
    "\n",
    "print(\"\\n🎉 Training process finished!\")\n",
    "print(f\"Please check your Google Drive at '{PROJECT_PATH_GDRIVE}' for 'router_model.pth' and 'router_training_data.jsonl'.\")"
   ],
   "metadata": {
    "collapsed": false
   },
   "id": "a29384d0688b3dee"
  },
  {
   "cell_type": "code",
   "outputs": [],
   "source": [
    "# =========================================================\n",
    "# Cell 3: Run the Evaluation Script\n",
    "# =========================================================\n",
    "import os\n",
    "\n",
    "# 同样地，传递Google Drive的项目路径\n",
    "os.environ['PROJECT_PATH_GDRIVE'] = PROJECT_PATH_GDRIVE\n",
    "\n",
    "print(\"📊\" * 20)\n",
    "print(\"Starting the evaluation process...\")\n",
    "print(f\"The script will load the trained model from: {os.path.join(PROJECT_PATH_GDRIVE, 'router_model.pth')}\")\n",
    "print(\"📊\" * 20)\n",
    "\n",
    "!python evaluate_system.py\n",
    "\n",
    "print(\"\\n🎉 Evaluation process finished!\")"
   ],
   "metadata": {
    "collapsed": false
   },
   "id": "bf164350daf78304"
  }
 ],
 "metadata": {
  "kernelspec": {
   "display_name": "Python 3",
   "language": "python",
   "name": "python3"
  },
  "language_info": {
   "codemirror_mode": {
    "name": "ipython",
    "version": 2
   },
   "file_extension": ".py",
   "mimetype": "text/x-python",
   "name": "python",
   "nbconvert_exporter": "python",
   "pygments_lexer": "ipython2",
   "version": "2.7.6"
  }
 },
 "nbformat": 4,
 "nbformat_minor": 5
}
